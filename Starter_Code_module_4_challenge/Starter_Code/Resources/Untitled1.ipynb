{
 "cells": [
  {
   "cell_type": "code",
   "execution_count": null,
   "id": "7c91a475-5269-474e-8e78-f866678af558",
   "metadata": {},
   "outputs": [],
   "source": []
  },
  {
   "cell_type": "code",
   "execution_count": 1,
   "id": "7fa44707-d783-4890-bc17-a8d9855a644e",
   "metadata": {},
   "outputs": [
    {
     "name": "stdout",
     "output_type": "stream",
     "text": [
      "Close    object\n",
      "dtype: object\n"
     ]
    },
    {
     "name": "stderr",
     "output_type": "stream",
     "text": [
      "C:\\Users\\Chiny\\AppData\\Local\\Temp\\ipykernel_16180\\3156308257.py:18: FutureWarning: The default value of regex will change from True to False in a future version. In addition, single character regular expressions will *not* be treated as literal strings when regex=True.\n",
      "  sp500[\"Close\"] = sp500[\"Close\"].str.replace('$', '')\n"
     ]
    }
   ],
   "source": [
    "# Initial imports\n",
    "\n",
    "import pandas as pd\n",
    "import numpy as np\n",
    "import datetime as dt\n",
    "from pathlib import Path\n",
    "\n",
    "%matplotlib inline\n",
    "\n",
    "# Reading sp500_history returns\n",
    "\n",
    "\n",
    "# Reading sp500 eturns\n",
    "\n",
    "#algo_returns = Path(r\"Desktop/UM FinTech/Starter_Code_module_4_challenge/Starter_Code/Resources/sp500_history.csv\")\n",
    "\n",
    "sp500 = pd.read_csv('sp500_history.csv', index_col=\"Date\")\n",
    "sp500[\"Close\"] = sp500[\"Close\"].str.replace('$', '')\n",
    "#p500 = head()\n",
    "#print(sp500[\"Close\"])\n",
    "\n",
    "# check data types\n",
    "\n",
    "print(sp500.dtypes)\n",
    "\n",
    "# fix data types\n",
    "\n",
    "#sp500['Date'] = pd.to_datetime(sp500['Date'])\n",
    "\n",
    "#print(sp500.to_string())\n",
    "\n",
    "#sp500 daily return\n",
    "\n",
    "#sp500_daily_return = sp500.pct_change()\n",
    "#sp500_daily_return = sp500_daily_return[1:]\n",
    "#print(sp500_daily_turn)\n",
    "\n",
    "# count nulls\n",
    "\n",
    "#sp500_nulls = sp500.isnull().sum()\n",
    "#print(sp500_nulls)\n",
    "\n",
    "# drop nulls\n",
    "\n",
    "#sp500_drops = sp500.dropna(how='all')\n",
    "#print(sp500_drops)"
   ]
  },
  {
   "cell_type": "code",
   "execution_count": null,
   "id": "ff08550b-6851-4405-aa62-fce8b3d2b255",
   "metadata": {},
   "outputs": [],
   "source": []
  }
 ],
 "metadata": {
  "kernelspec": {
   "display_name": "Python 3 (ipykernel)",
   "language": "python",
   "name": "python3"
  },
  "language_info": {
   "codemirror_mode": {
    "name": "ipython",
    "version": 3
   },
   "file_extension": ".py",
   "mimetype": "text/x-python",
   "name": "python",
   "nbconvert_exporter": "python",
   "pygments_lexer": "ipython3",
   "version": "3.9.12"
  }
 },
 "nbformat": 4,
 "nbformat_minor": 5
}
